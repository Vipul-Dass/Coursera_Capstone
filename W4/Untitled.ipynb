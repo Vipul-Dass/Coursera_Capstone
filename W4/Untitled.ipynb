{
 "cells": [
  {
   "cell_type": "markdown",
   "metadata": {},
   "source": [
    "# Objective/Introduction/Business Problem:"
   ]
  },
  {
   "cell_type": "markdown",
   "metadata": {},
   "source": [
    "I am a prospective businessman looking to open up a restuarant in Kyiv, Ukraine. I'd like my restaurant to be homely Ukrainian cuisine, featuring simple dishes that would be of the sort cooked in typical Ukranian households. I'm scouting for ideal locations to build my rest"
   ]
  },
  {
   "cell_type": "markdown",
   "metadata": {},
   "source": [
    "- dataset obtained from : https://www.kaggle.com/vshumara/ukrain-postal-codes"
   ]
  },
  {
   "cell_type": "code",
   "execution_count": null,
   "metadata": {},
   "outputs": [],
   "source": [
    "    Introduction where you discuss the business problem and who would be interested in this project.\n",
    "    Data where you describe the data that will be used to solve the problem and the source of the data.\n",
    "    Methodology section which represents the main component of the report where you discuss and describe any exploratory data analysis that you did, any inferential statistical testing that you performed, if any, and what machine learnings were used and why.\n",
    "    Results section where you discuss the results.\n",
    "    Discussion section where you discuss any observations you noted and any recommendations you can make based on the results.\n",
    "    Conclusion section where you conclude the report."
   ]
  }
 ],
 "metadata": {
  "kernelspec": {
   "display_name": "Python 3",
   "language": "python",
   "name": "python3"
  },
  "language_info": {
   "codemirror_mode": {
    "name": "ipython",
    "version": 3
   },
   "file_extension": ".py",
   "mimetype": "text/x-python",
   "name": "python",
   "nbconvert_exporter": "python",
   "pygments_lexer": "ipython3",
   "version": "3.8.5"
  }
 },
 "nbformat": 4,
 "nbformat_minor": 4
}
