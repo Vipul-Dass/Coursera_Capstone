{
 "cells": [
  {
   "cell_type": "markdown",
   "metadata": {},
   "source": [
    "# Objective/Introduction/Business Problem:"
   ]
  },
  {
   "cell_type": "markdown",
   "metadata": {},
   "source": [
    "I am a prospective businessman looking to open up a restuarant in Kyiv, Ukraine. I'd like my restaurant to be homely Ukrainian cuisine, featuring simple dishes that would be of the sort cooked in typical Ukranian households. I'm scouting for ideal locations to build my restaurant that would ideally not be around deeply clustured restaurants and cafes.\n",
    "\n",
    "People wanting to open up restaurants of the above mentioned variety would benefit from this project."
   ]
  },
  {
   "cell_type": "code",
   "execution_count": null,
   "metadata": {},
   "outputs": [],
   "source": []
  },
  {
   "cell_type": "markdown",
   "metadata": {},
   "source": [
    "- dataset obtained from : https://www.kaggle.com/vshumara/ukrain-postal-codes"
   ]
  },
  {
   "cell_type": "markdown",
   "metadata": {},
   "source": [
    "This dataset consists of postcodes from Ukraine. \n",
    "The data format is semicolon-delimited csv in utf8 encoding, with the following fields :\n",
    "\n",
    "    country code : iso country code, 2 characters\n",
    "    postal code : varchar(20)\n",
    "    place name : varchar(180)\n",
    "    admin name1 : 1. order subdivision (state) varchar(100)\n",
    "    admin code1 : 1. order subdivision (state) varchar(20)\n",
    "    admin name2 : 2. order subdivision (county/province) varchar(100)\n",
    "    admin code2 : 2. order subdivision (county/province) varchar(20)\n",
    "    admin name3 : 3. order subdivision (community) varchar(100)\n",
    "    admin code3 : 3. order subdivision (community) varchar(20)\n",
    "    latitude : estimated latitude (wgs84)\n",
    "    longitude : estimated longitude (wgs84)\n",
    "    accuracy : accuracy of lat/lng from 1=estimated to 6=centroid\n"
   ]
  },
  {
   "cell_type": "markdown",
   "metadata": {},
   "source": [
    "out of these, postal code and latitude - longitudes would be most useful"
   ]
  },
  {
   "cell_type": "markdown",
   "metadata": {},
   "source": [
    "### Objectives\n",
    "\n",
    "- Introduction where you discuss the business problem and who would be interested in this project.\n",
    "\n",
    "- Data where you describe the data that will be used to solve the problem and the source of the data.\n",
    "\n",
    "- Methodology section which represents the main component of the report where you discuss and describe any exploratory    data analysis that you did, any inferential statistical testing that you performed, if any, and what machine   learnings  were used and why.\n",
    "\n",
    "- Results section where you discuss the results.\n",
    "\n",
    "- Discussion section where you discuss any observations you noted and any recommendations you can make based on the    Conclusion section where you conclude the report.\n"
   ]
  },
  {
   "cell_type": "code",
   "execution_count": null,
   "metadata": {},
   "outputs": [],
   "source": []
  }
 ],
 "metadata": {
  "kernelspec": {
   "display_name": "Python 3",
   "language": "python",
   "name": "python3"
  },
  "language_info": {
   "codemirror_mode": {
    "name": "ipython",
    "version": 3
   },
   "file_extension": ".py",
   "mimetype": "text/x-python",
   "name": "python",
   "nbconvert_exporter": "python",
   "pygments_lexer": "ipython3",
   "version": "3.8.5"
  }
 },
 "nbformat": 4,
 "nbformat_minor": 4
}
